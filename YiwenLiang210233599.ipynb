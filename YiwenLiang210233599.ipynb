{
 "cells": [
  {
   "cell_type": "code",
   "execution_count": 42,
   "metadata": {},
   "outputs": [
    {
     "data": {
      "application/vnd.jupyter.widget-view+json": {
       "model_id": "ac8a0ff978ca438e976824d79805eb19",
       "version_major": 2,
       "version_minor": 0
      },
      "text/plain": [
       "VBox(children=(SelectMultiple(description='Vaccinated:', index=(0, 1), options=('One', 'Two'), rows=3, value=(…"
      ]
     },
     "metadata": {},
     "output_type": "display_data"
    },
    {
     "data": {
      "application/vnd.jupyter.widget-view+json": {
       "model_id": "ef407a207d4042c9979ce977361ec7fe",
       "version_major": 2,
       "version_minor": 0
      },
      "text/plain": [
       "Output()"
      ]
     },
     "metadata": {},
     "output_type": "display_data"
    },
    {
     "data": {
      "application/vnd.jupyter.widget-view+json": {
       "model_id": "c1deea6a5e514211a03dafc5dbc3595b",
       "version_major": 2,
       "version_minor": 0
      },
      "text/plain": [
       "Button(button_style='info', description='REFRESH', style=ButtonStyle())"
      ]
     },
     "metadata": {},
     "output_type": "display_data"
    }
   ],
   "source": [
    "from IPython.display import clear_output\n",
    "import ipywidgets as wdg\n",
    "import pandas as pd\n",
    "import numpy as np\n",
    "import matplotlib.pyplot as plt\n",
    "import json\n",
    "from uk_covid19 import Cov19API\n",
    "\n",
    "%matplotlib inline\n",
    "# make figures larger\n",
    "plt.rcParams['figure.dpi'] = 100\n",
    "\n",
    "# Load JSON files and store the raw data in some variable. Edit as appropriate\n",
    "def access_covid_api(filters, structure):\n",
    "    api = Cov19API(filters, structure)\n",
    "    data = api.get_json()\n",
    "    with open('covidJson.json', 'wt') as OUTF:\n",
    "        json.dump(data, OUTF)\n",
    "    with open('covidJson.json', 'rt') as INFILE:\n",
    "        covidData = json.load(INFILE)\n",
    "    return covidData\n",
    "\n",
    "filters = ['areaType=overview']\n",
    "\n",
    "# values here are the names\n",
    "structure = {\"date\": \"date\", \n",
    "             \"One\":\"cumPeopleVaccinatedFirstDoseByPublishDate\", \n",
    "             \"Two\":\"cumPeopleVaccinatedSecondDoseByPublishDate\"\n",
    "            }\n",
    "\n",
    "#if the test is running correctly\n",
    "covidData = access_covid_api(filters, structure)\n",
    "\n",
    "def parse_date(date):\n",
    "    return pd.to_datetime(date, format=\"%Y-%m-%d\")\n",
    "\n",
    "def wrangle_data(oldList):\n",
    "    covidList = oldList['data']\n",
    "    dates = [dic['date'] for dic in covidList]\n",
    "    dates.sort()\n",
    "    startDate = parse_date(dates[0])\n",
    "    endDate = parse_date(dates[-1])\n",
    "    index = pd.date_range(startDate, endDate, freq = 'D')\n",
    "    covidJsondf = pd.DataFrame(index = index, columns = ['One', 'Two'])\n",
    "    for line in covidList:\n",
    "        data = parse_date(line['date'])\n",
    "        for column in ['One', 'Two']:\n",
    "            value = float(line[column] if line[column] != None else 0.0)\n",
    "            covidJsondf.loc[data, column] = value                    \n",
    "    covidJsondf.fillna(0.0, inplace = True)\n",
    "    return covidJsondf\n",
    "                          \n",
    "covidJsondf = wrangle_data(covidData)\n",
    "\n",
    "covidClos = wdg.SelectMultiple(options = ['One', 'Two'], \n",
    "                               value = ['One', 'Two'], \n",
    "                               rows = 3, \n",
    "                               description = 'Vaccinated:', \n",
    "                               disabled = False\n",
    "                              )\n",
    "\n",
    "scale = wdg.RadioButtons(options = ['Linear', 'Log'], \n",
    "                         description = 'Scale:', \n",
    "                         disabled = False\n",
    "                        )\n",
    "\n",
    "#Use the VBox to replace the HBox\n",
    "controls = wdg.VBox([covidClos, scale])\n",
    "\n",
    "def covid_graph(gCols, gScale):\n",
    "    if gScale == 'Linear':\n",
    "        logScale = False\n",
    "    elif gScale == 'Log':\n",
    "        logScale = True\n",
    "    ncols = len(gCols)\n",
    "    if ncols > 0:\n",
    "        covidJsondf[list(gCols)].plot(logy = logScale)\n",
    "        plt.show() # important! update won't work properly without this\n",
    "    else:\n",
    "        print(\"Click to select data for graph\")\n",
    "        print(\"CTRL-Click to select more than one category)\")\n",
    "        \n",
    "# keep calling timeseries_graph(gCols=value_of_series, gScale=value_of_scale);\n",
    "# capture output in widget graph\n",
    "graph = wdg.interactive_output(covid_graph, {'gCols' : covidClos, 'gScale': scale})\n",
    "\n",
    "display(controls, graph)\n",
    "\n",
    "# Get fresh data from the API\n",
    "def api_button_callback(button):\n",
    "    covidData = access_covid_api(filters, structure)\n",
    "    global covidJsondf\n",
    "    covidJsondf = wrangleData(covidData)\n",
    "    apiButton.icon = \"check\"\n",
    "    apiButton.disabled = True\n",
    "    \n",
    "apiButton = wdg.Button(description = 'REFRESH', \n",
    "                       disabled = False, \n",
    "                       button_style = 'info', # 'success', 'info', 'warning', 'danger' or ''\n",
    "                       toolTip = \"Update vaccination data\",\n",
    "                      )\n",
    "\n",
    "# remember to register the button callback function with the button    \n",
    "apiButton.on_click(api_button_callback)# the name of the function inside these brackets\n",
    "\n",
    "display(apiButton)"
   ]
  },
  {
   "cell_type": "code",
   "execution_count": null,
   "metadata": {},
   "outputs": [],
   "source": []
  }
 ],
 "metadata": {
  "kernelspec": {
   "display_name": "Python 3 (ipykernel)",
   "language": "python",
   "name": "python3"
  },
  "language_info": {
   "codemirror_mode": {
    "name": "ipython",
    "version": 3
   },
   "file_extension": ".py",
   "mimetype": "text/x-python",
   "name": "python",
   "nbconvert_exporter": "python",
   "pygments_lexer": "ipython3",
   "version": "3.9.6"
  }
 },
 "nbformat": 4,
 "nbformat_minor": 4
}
